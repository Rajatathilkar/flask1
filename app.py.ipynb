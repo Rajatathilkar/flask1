{
 "cells": [
  {
   "cell_type": "code",
   "execution_count": 1,
   "id": "add245f1",
   "metadata": {},
   "outputs": [],
   "source": [
    "from flask import Flask, request, jsonify\n",
    "import pandas as pd\n",
    "import numpy as np\n",
    "from sklearn.feature_extraction.text import TfidfVectorizer\n",
    "from sklearn.metrics.pairwise import cosine_similarity\n"
   ]
  },
  {
   "cell_type": "code",
   "execution_count": null,
   "id": "d406eb5a",
   "metadata": {},
   "outputs": [
    {
     "name": "stdout",
     "output_type": "stream",
     "text": [
      " * Serving Flask app \"__main__\" (lazy loading)\n",
      " * Environment: production\n",
      "\u001b[31m   WARNING: This is a development server. Do not use it in a production deployment.\u001b[0m\n",
      "\u001b[2m   Use a production WSGI server instead.\u001b[0m\n",
      " * Debug mode: on\n"
     ]
    },
    {
     "name": "stderr",
     "output_type": "stream",
     "text": [
      " * Running on http://127.0.0.1:5000/ (Press CTRL+C to quit)\n",
      "127.0.0.1 - - [02/Apr/2023 12:31:26] \"GET / HTTP/1.1\" 200 -\n",
      "127.0.0.1 - - [02/Apr/2023 12:31:27] \"GET /static/styles.css HTTP/1.1\" 304 -\n",
      "127.0.0.1 - - [02/Apr/2023 12:31:27] \"GET /favicon.ico HTTP/1.1\" 404 -\n",
      "127.0.0.1 - - [02/Apr/2023 12:31:34] \"POST /chatbot HTTP/1.1\" 200 -\n"
     ]
    },
    {
     "name": "stdout",
     "output_type": "stream",
     "text": [
      "Predicted class: [9]\n",
      "Answer: this is the answer for category [9]\n"
     ]
    }
   ],
   "source": [
    "import pickle\n",
    "import numpy as np \n",
    "from sklearn.feature_extraction.text import TfidfVectorizer\n",
    "#vectorizer=TfidfVectorizer()\n",
    "\n",
    "#svm_model = joblib.load('svm_model.pkl')\n",
    "\n",
    "# Import the Flask library\n",
    "from flask import Flask, render_template, request, jsonify\n",
    "#with open('model_svm1.pkl','rb') as f:\n",
    "    #model_svm1=pickle.load(f)\n",
    "with open ('svm_model2.pkl','rb') as f:\n",
    "    svm_model2=pickle.load(f)\n",
    "with open('tfidf_vec.pkl', 'rb') as f:\n",
    "    tfidf_vec= pickle.load(f)\n",
    "#vectorizer=TfidfVectorizer()\n",
    "#vectorizer.fit(svm_model2)\n",
    "# Create a Flask application\n",
    "app = Flask(__name__,template_folder='templates')\n",
    "\n",
    "# Define the \n",
    "\n",
    "\n",
    "\n",
    "@app.route('/')\n",
    "def home():\n",
    "    # Define an initial welcome message\n",
    "    messages = [{'type': 'bot', 'text': 'Hi there, how can I help you today?'}]\n",
    "    return render_template('layout.html', messages=messages)\n",
    "\n",
    "@app.route('/chatbot', methods=['POST'])\n",
    "def chatbot():\n",
    "    # Get the user's question from the form\n",
    "    question = request.form['question']\n",
    "    \n",
    "    # Use the vectorizer to transform the question into a vector\n",
    "    question_vec = tfidf_vec.transform([question])\n",
    "    \n",
    "    # Use the SVM model to generate an answer\n",
    "    answer = svm_model2.predict((question_vec)[0])\n",
    "    print('Predicted class:',answer)\n",
    "    print('Answer:',get_answer(answer))\n",
    "    # Add the user's question and the chatbot's answer to the chatlog\n",
    "    messages = [\n",
    "        {'type': 'user', 'text': question},\n",
    "        {'type': 'bot', 'text': get_answer(answer)}\n",
    "    ]\n",
    "    \n",
    "    # Render the HTML template with the updated chatlog\n",
    "    return render_template('layout.html', messages=messages)\n",
    "    #return render_template('layout.html', messages=messages)\n",
    "    \n",
    "    \n",
    "def get_answer(category):\n",
    "    \n",
    "    \n",
    "        \n",
    "    return'this is the answer for category {}'.format(category)\n",
    "if __name__ == '__main__':\n",
    "    app.run(debug=True,use_reloader=False)"
   ]
  },
  {
   "cell_type": "code",
   "execution_count": null,
   "id": "91ae0f3d",
   "metadata": {},
   "outputs": [],
   "source": []
  },
  {
   "cell_type": "code",
   "execution_count": null,
   "id": "5ceaa272",
   "metadata": {},
   "outputs": [],
   "source": []
  },
  {
   "cell_type": "code",
   "execution_count": null,
   "id": "f7940cb6",
   "metadata": {},
   "outputs": [],
   "source": []
  },
  {
   "cell_type": "code",
   "execution_count": null,
   "id": "075400be",
   "metadata": {},
   "outputs": [],
   "source": []
  },
  {
   "cell_type": "code",
   "execution_count": null,
   "id": "cd0121c1",
   "metadata": {},
   "outputs": [],
   "source": []
  },
  {
   "cell_type": "code",
   "execution_count": null,
   "id": "e58fa1ab",
   "metadata": {},
   "outputs": [],
   "source": []
  },
  {
   "cell_type": "code",
   "execution_count": null,
   "id": "9ff2bca4",
   "metadata": {},
   "outputs": [],
   "source": []
  },
  {
   "cell_type": "code",
   "execution_count": null,
   "id": "09f92bb8",
   "metadata": {},
   "outputs": [],
   "source": []
  },
  {
   "cell_type": "code",
   "execution_count": null,
   "id": "6ead5c41",
   "metadata": {},
   "outputs": [],
   "source": []
  },
  {
   "cell_type": "code",
   "execution_count": null,
   "id": "a1be718d",
   "metadata": {},
   "outputs": [],
   "source": []
  },
  {
   "cell_type": "code",
   "execution_count": null,
   "id": "2bb63d87",
   "metadata": {},
   "outputs": [],
   "source": []
  },
  {
   "cell_type": "code",
   "execution_count": null,
   "id": "fa34d0a5",
   "metadata": {},
   "outputs": [],
   "source": []
  },
  {
   "cell_type": "code",
   "execution_count": null,
   "id": "1f6b7700",
   "metadata": {},
   "outputs": [],
   "source": []
  },
  {
   "cell_type": "code",
   "execution_count": null,
   "id": "0eff10e4",
   "metadata": {},
   "outputs": [],
   "source": []
  },
  {
   "cell_type": "code",
   "execution_count": null,
   "id": "9a35a045",
   "metadata": {},
   "outputs": [],
   "source": []
  },
  {
   "cell_type": "code",
   "execution_count": null,
   "id": "191f95eb",
   "metadata": {},
   "outputs": [],
   "source": []
  },
  {
   "cell_type": "code",
   "execution_count": null,
   "id": "528e98f4",
   "metadata": {},
   "outputs": [],
   "source": []
  },
  {
   "cell_type": "code",
   "execution_count": null,
   "id": "18dfd2d9",
   "metadata": {},
   "outputs": [],
   "source": []
  },
  {
   "cell_type": "code",
   "execution_count": null,
   "id": "c19a1ec0",
   "metadata": {},
   "outputs": [],
   "source": []
  }
 ],
 "metadata": {
  "kernelspec": {
   "display_name": "Python 3 (ipykernel)",
   "language": "python",
   "name": "python3"
  },
  "language_info": {
   "codemirror_mode": {
    "name": "ipython",
    "version": 3
   },
   "file_extension": ".py",
   "mimetype": "text/x-python",
   "name": "python",
   "nbconvert_exporter": "python",
   "pygments_lexer": "ipython3",
   "version": "3.9.13"
  }
 },
 "nbformat": 4,
 "nbformat_minor": 5
}
