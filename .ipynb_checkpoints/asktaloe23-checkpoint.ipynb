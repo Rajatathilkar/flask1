{
 "cells": [
  {
   "cell_type": "code",
   "execution_count": 2,
   "id": "89e42860",
   "metadata": {},
   "outputs": [],
   "source": [
    "import pandas as pd \n",
    "import numpy as np\n",
    "import matplotlib.pyplot as plt\n",
    "import seaborn as sns"
   ]
  },
  {
   "cell_type": "code",
   "execution_count": 3,
   "id": "32ea9804",
   "metadata": {},
   "outputs": [
    {
     "data": {
      "text/html": [
       "<div>\n",
       "<style scoped>\n",
       "    .dataframe tbody tr th:only-of-type {\n",
       "        vertical-align: middle;\n",
       "    }\n",
       "\n",
       "    .dataframe tbody tr th {\n",
       "        vertical-align: top;\n",
       "    }\n",
       "\n",
       "    .dataframe thead th {\n",
       "        text-align: right;\n",
       "    }\n",
       "</style>\n",
       "<table border=\"1\" class=\"dataframe\">\n",
       "  <thead>\n",
       "    <tr style=\"text-align: right;\">\n",
       "      <th></th>\n",
       "      <th>Question</th>\n",
       "      <th>Answer</th>\n",
       "      <th>Class</th>\n",
       "    </tr>\n",
       "  </thead>\n",
       "  <tbody>\n",
       "    <tr>\n",
       "      <th>0</th>\n",
       "      <td>What are the documents required for opening a ...</td>\n",
       "      <td>Following documents are required to open a Cur...</td>\n",
       "      <td>accounts</td>\n",
       "    </tr>\n",
       "    <tr>\n",
       "      <th>1</th>\n",
       "      <td>Can I transfer my Current Account from one bra...</td>\n",
       "      <td>Yes, Current Accounts can be transferred from ...</td>\n",
       "      <td>accounts</td>\n",
       "    </tr>\n",
       "    <tr>\n",
       "      <th>2</th>\n",
       "      <td>My present status is NRI. What extra documents...</td>\n",
       "      <td>NRI/PIO can open the proprietorship/partnershi...</td>\n",
       "      <td>accounts</td>\n",
       "    </tr>\n",
       "    <tr>\n",
       "      <th>3</th>\n",
       "      <td>What are the documents required for opening a ...</td>\n",
       "      <td>Following documents are required for opening a...</td>\n",
       "      <td>accounts</td>\n",
       "    </tr>\n",
       "    <tr>\n",
       "      <th>4</th>\n",
       "      <td>What documents are required to change the addr...</td>\n",
       "      <td>Following documents are required to change the...</td>\n",
       "      <td>accounts</td>\n",
       "    </tr>\n",
       "    <tr>\n",
       "      <th>...</th>\n",
       "      <td>...</td>\n",
       "      <td>...</td>\n",
       "      <td>...</td>\n",
       "    </tr>\n",
       "    <tr>\n",
       "      <th>1768</th>\n",
       "      <td>Which languages do you speak</td>\n",
       "      <td>just English. But I'm trying to learn new lang...</td>\n",
       "      <td>accounts</td>\n",
       "    </tr>\n",
       "    <tr>\n",
       "      <th>1769</th>\n",
       "      <td>how much is interest for FD</td>\n",
       "      <td>7%</td>\n",
       "      <td>accounts</td>\n",
       "    </tr>\n",
       "    <tr>\n",
       "      <th>1770</th>\n",
       "      <td>how much is interest for Fixed Deposit</td>\n",
       "      <td>7%</td>\n",
       "      <td>accounts</td>\n",
       "    </tr>\n",
       "    <tr>\n",
       "      <th>1771</th>\n",
       "      <td>Fixed Deposit</td>\n",
       "      <td>7%</td>\n",
       "      <td>accounts</td>\n",
       "    </tr>\n",
       "    <tr>\n",
       "      <th>1772</th>\n",
       "      <td>FD</td>\n",
       "      <td>7%</td>\n",
       "      <td>accounts</td>\n",
       "    </tr>\n",
       "  </tbody>\n",
       "</table>\n",
       "<p>1773 rows × 3 columns</p>\n",
       "</div>"
      ],
      "text/plain": [
       "                                               Question  \\\n",
       "0     What are the documents required for opening a ...   \n",
       "1     Can I transfer my Current Account from one bra...   \n",
       "2     My present status is NRI. What extra documents...   \n",
       "3     What are the documents required for opening a ...   \n",
       "4     What documents are required to change the addr...   \n",
       "...                                                 ...   \n",
       "1768                       Which languages do you speak   \n",
       "1769                        how much is interest for FD   \n",
       "1770             how much is interest for Fixed Deposit   \n",
       "1771                                      Fixed Deposit   \n",
       "1772                                                 FD   \n",
       "\n",
       "                                                 Answer     Class  \n",
       "0     Following documents are required to open a Cur...  accounts  \n",
       "1     Yes, Current Accounts can be transferred from ...  accounts  \n",
       "2     NRI/PIO can open the proprietorship/partnershi...  accounts  \n",
       "3     Following documents are required for opening a...  accounts  \n",
       "4     Following documents are required to change the...  accounts  \n",
       "...                                                 ...       ...  \n",
       "1768  just English. But I'm trying to learn new lang...  accounts  \n",
       "1769                                                 7%  accounts  \n",
       "1770                                                 7%  accounts  \n",
       "1771                                                 7%  accounts  \n",
       "1772                                                 7%  accounts  \n",
       "\n",
       "[1773 rows x 3 columns]"
      ]
     },
     "execution_count": 3,
     "metadata": {},
     "output_type": "execute_result"
    }
   ],
   "source": [
    "#loading dataset \n",
    "\n",
    "df=pd.read_csv(\"C://asktaloes_datset//BankFAQs.csv\")\n",
    "df"
   ]
  },
  {
   "cell_type": "code",
   "execution_count": 4,
   "id": "3f672427",
   "metadata": {},
   "outputs": [
    {
     "data": {
      "text/html": [
       "<div>\n",
       "<style scoped>\n",
       "    .dataframe tbody tr th:only-of-type {\n",
       "        vertical-align: middle;\n",
       "    }\n",
       "\n",
       "    .dataframe tbody tr th {\n",
       "        vertical-align: top;\n",
       "    }\n",
       "\n",
       "    .dataframe thead th {\n",
       "        text-align: right;\n",
       "    }\n",
       "</style>\n",
       "<table border=\"1\" class=\"dataframe\">\n",
       "  <thead>\n",
       "    <tr style=\"text-align: right;\">\n",
       "      <th></th>\n",
       "      <th>Question</th>\n",
       "      <th>Answer</th>\n",
       "      <th>Class</th>\n",
       "    </tr>\n",
       "  </thead>\n",
       "  <tbody>\n",
       "    <tr>\n",
       "      <th>0</th>\n",
       "      <td>What are the documents required for opening a ...</td>\n",
       "      <td>Following documents are required to open a Cur...</td>\n",
       "      <td>accounts</td>\n",
       "    </tr>\n",
       "    <tr>\n",
       "      <th>1</th>\n",
       "      <td>Can I transfer my Current Account from one bra...</td>\n",
       "      <td>Yes, Current Accounts can be transferred from ...</td>\n",
       "      <td>accounts</td>\n",
       "    </tr>\n",
       "    <tr>\n",
       "      <th>2</th>\n",
       "      <td>My present status is NRI. What extra documents...</td>\n",
       "      <td>NRI/PIO can open the proprietorship/partnershi...</td>\n",
       "      <td>accounts</td>\n",
       "    </tr>\n",
       "    <tr>\n",
       "      <th>3</th>\n",
       "      <td>What are the documents required for opening a ...</td>\n",
       "      <td>Following documents are required for opening a...</td>\n",
       "      <td>accounts</td>\n",
       "    </tr>\n",
       "    <tr>\n",
       "      <th>4</th>\n",
       "      <td>What documents are required to change the addr...</td>\n",
       "      <td>Following documents are required to change the...</td>\n",
       "      <td>accounts</td>\n",
       "    </tr>\n",
       "  </tbody>\n",
       "</table>\n",
       "</div>"
      ],
      "text/plain": [
       "                                            Question  \\\n",
       "0  What are the documents required for opening a ...   \n",
       "1  Can I transfer my Current Account from one bra...   \n",
       "2  My present status is NRI. What extra documents...   \n",
       "3  What are the documents required for opening a ...   \n",
       "4  What documents are required to change the addr...   \n",
       "\n",
       "                                              Answer     Class  \n",
       "0  Following documents are required to open a Cur...  accounts  \n",
       "1  Yes, Current Accounts can be transferred from ...  accounts  \n",
       "2  NRI/PIO can open the proprietorship/partnershi...  accounts  \n",
       "3  Following documents are required for opening a...  accounts  \n",
       "4  Following documents are required to change the...  accounts  "
      ]
     },
     "execution_count": 4,
     "metadata": {},
     "output_type": "execute_result"
    }
   ],
   "source": [
    "#checking five rows of datset\n",
    "df.head()"
   ]
  },
  {
   "cell_type": "code",
   "execution_count": 5,
   "id": "296e7a9d",
   "metadata": {},
   "outputs": [
    {
     "data": {
      "text/html": [
       "<div>\n",
       "<style scoped>\n",
       "    .dataframe tbody tr th:only-of-type {\n",
       "        vertical-align: middle;\n",
       "    }\n",
       "\n",
       "    .dataframe tbody tr th {\n",
       "        vertical-align: top;\n",
       "    }\n",
       "\n",
       "    .dataframe thead th {\n",
       "        text-align: right;\n",
       "    }\n",
       "</style>\n",
       "<table border=\"1\" class=\"dataframe\">\n",
       "  <thead>\n",
       "    <tr style=\"text-align: right;\">\n",
       "      <th></th>\n",
       "      <th>Question</th>\n",
       "      <th>Answer</th>\n",
       "      <th>Class</th>\n",
       "    </tr>\n",
       "  </thead>\n",
       "  <tbody>\n",
       "    <tr>\n",
       "      <th>1768</th>\n",
       "      <td>Which languages do you speak</td>\n",
       "      <td>just English. But I'm trying to learn new lang...</td>\n",
       "      <td>accounts</td>\n",
       "    </tr>\n",
       "    <tr>\n",
       "      <th>1769</th>\n",
       "      <td>how much is interest for FD</td>\n",
       "      <td>7%</td>\n",
       "      <td>accounts</td>\n",
       "    </tr>\n",
       "    <tr>\n",
       "      <th>1770</th>\n",
       "      <td>how much is interest for Fixed Deposit</td>\n",
       "      <td>7%</td>\n",
       "      <td>accounts</td>\n",
       "    </tr>\n",
       "    <tr>\n",
       "      <th>1771</th>\n",
       "      <td>Fixed Deposit</td>\n",
       "      <td>7%</td>\n",
       "      <td>accounts</td>\n",
       "    </tr>\n",
       "    <tr>\n",
       "      <th>1772</th>\n",
       "      <td>FD</td>\n",
       "      <td>7%</td>\n",
       "      <td>accounts</td>\n",
       "    </tr>\n",
       "  </tbody>\n",
       "</table>\n",
       "</div>"
      ],
      "text/plain": [
       "                                    Question  \\\n",
       "1768            Which languages do you speak   \n",
       "1769             how much is interest for FD   \n",
       "1770  how much is interest for Fixed Deposit   \n",
       "1771                           Fixed Deposit   \n",
       "1772                                      FD   \n",
       "\n",
       "                                                 Answer     Class  \n",
       "1768  just English. But I'm trying to learn new lang...  accounts  \n",
       "1769                                                 7%  accounts  \n",
       "1770                                                 7%  accounts  \n",
       "1771                                                 7%  accounts  \n",
       "1772                                                 7%  accounts  "
      ]
     },
     "execution_count": 5,
     "metadata": {},
     "output_type": "execute_result"
    }
   ],
   "source": [
    "#checking bottom top 5 rows \n",
    "df.tail()"
   ]
  },
  {
   "cell_type": "code",
   "execution_count": 6,
   "id": "ff0dc55a",
   "metadata": {},
   "outputs": [
    {
     "name": "stdout",
     "output_type": "stream",
     "text": [
      "<class 'pandas.core.frame.DataFrame'>\n",
      "RangeIndex: 1773 entries, 0 to 1772\n",
      "Data columns (total 3 columns):\n",
      " #   Column    Non-Null Count  Dtype \n",
      "---  ------    --------------  ----- \n",
      " 0   Question  1773 non-null   object\n",
      " 1   Answer    1773 non-null   object\n",
      " 2   Class     1773 non-null   object\n",
      "dtypes: object(3)\n",
      "memory usage: 41.7+ KB\n"
     ]
    }
   ],
   "source": [
    "df.info()\n",
    "#checking how many entries and column \n"
   ]
  },
  {
   "cell_type": "code",
   "execution_count": 7,
   "id": "946099d6",
   "metadata": {},
   "outputs": [
    {
     "data": {
      "text/plain": [
       "Question    0\n",
       "Answer      0\n",
       "Class       0\n",
       "dtype: int64"
      ]
     },
     "execution_count": 7,
     "metadata": {},
     "output_type": "execute_result"
    }
   ],
   "source": [
    "#checking null values but null values not found so no need to replace null value \n",
    "df.isnull().sum()"
   ]
  },
  {
   "cell_type": "code",
   "execution_count": 8,
   "id": "d30a30be",
   "metadata": {},
   "outputs": [
    {
     "data": {
      "text/html": [
       "<div>\n",
       "<style scoped>\n",
       "    .dataframe tbody tr th:only-of-type {\n",
       "        vertical-align: middle;\n",
       "    }\n",
       "\n",
       "    .dataframe tbody tr th {\n",
       "        vertical-align: top;\n",
       "    }\n",
       "\n",
       "    .dataframe thead th {\n",
       "        text-align: right;\n",
       "    }\n",
       "</style>\n",
       "<table border=\"1\" class=\"dataframe\">\n",
       "  <thead>\n",
       "    <tr style=\"text-align: right;\">\n",
       "      <th></th>\n",
       "      <th>Question</th>\n",
       "      <th>Answer</th>\n",
       "      <th>Class</th>\n",
       "    </tr>\n",
       "  </thead>\n",
       "  <tbody>\n",
       "    <tr>\n",
       "      <th>count</th>\n",
       "      <td>1773</td>\n",
       "      <td>1773</td>\n",
       "      <td>1773</td>\n",
       "    </tr>\n",
       "    <tr>\n",
       "      <th>unique</th>\n",
       "      <td>1343</td>\n",
       "      <td>1446</td>\n",
       "      <td>7</td>\n",
       "    </tr>\n",
       "    <tr>\n",
       "      <th>top</th>\n",
       "      <td>How can I change the mode of repayment/ accoun...</td>\n",
       "      <td>Post Dated Cheques(PDCs)/Security Cheques subm...</td>\n",
       "      <td>insurance</td>\n",
       "    </tr>\n",
       "    <tr>\n",
       "      <th>freq</th>\n",
       "      <td>18</td>\n",
       "      <td>17</td>\n",
       "      <td>469</td>\n",
       "    </tr>\n",
       "  </tbody>\n",
       "</table>\n",
       "</div>"
      ],
      "text/plain": [
       "                                                 Question  \\\n",
       "count                                                1773   \n",
       "unique                                               1343   \n",
       "top     How can I change the mode of repayment/ accoun...   \n",
       "freq                                                   18   \n",
       "\n",
       "                                                   Answer      Class  \n",
       "count                                                1773       1773  \n",
       "unique                                               1446          7  \n",
       "top     Post Dated Cheques(PDCs)/Security Cheques subm...  insurance  \n",
       "freq                                                   17        469  "
      ]
     },
     "execution_count": 8,
     "metadata": {},
     "output_type": "execute_result"
    }
   ],
   "source": [
    "#describing the data\n",
    "df.describe()"
   ]
  },
  {
   "cell_type": "code",
   "execution_count": 9,
   "id": "5b887db6",
   "metadata": {},
   "outputs": [
    {
     "data": {
      "text/plain": [
       "(1773, 3)"
      ]
     },
     "execution_count": 9,
     "metadata": {},
     "output_type": "execute_result"
    }
   ],
   "source": [
    "df.shape\n",
    "#checking how many rows and column in dataset encoding='ISO-8859-1\n"
   ]
  },
  {
   "cell_type": "code",
   "execution_count": 10,
   "id": "27de1cd5",
   "metadata": {},
   "outputs": [
    {
     "data": {
      "text/html": [
       "<div>\n",
       "<style scoped>\n",
       "    .dataframe tbody tr th:only-of-type {\n",
       "        vertical-align: middle;\n",
       "    }\n",
       "\n",
       "    .dataframe tbody tr th {\n",
       "        vertical-align: top;\n",
       "    }\n",
       "\n",
       "    .dataframe thead th {\n",
       "        text-align: right;\n",
       "    }\n",
       "</style>\n",
       "<table border=\"1\" class=\"dataframe\">\n",
       "  <thead>\n",
       "    <tr style=\"text-align: right;\">\n",
       "      <th></th>\n",
       "      <th>Question</th>\n",
       "      <th>Answer</th>\n",
       "      <th>Class</th>\n",
       "    </tr>\n",
       "  </thead>\n",
       "  <tbody>\n",
       "    <tr>\n",
       "      <th>0</th>\n",
       "      <td>What is the ATS?</td>\n",
       "      <td>The ATS is an Application Tracking System, hos...</td>\n",
       "      <td>Application Tracking System (ATS)</td>\n",
       "    </tr>\n",
       "    <tr>\n",
       "      <th>1</th>\n",
       "      <td>What is an application?</td>\n",
       "      <td>An application can be any application, address...</td>\n",
       "      <td>Application Tracking System (ATS)</td>\n",
       "    </tr>\n",
       "    <tr>\n",
       "      <th>2</th>\n",
       "      <td>How can the ATS be accessed?</td>\n",
       "      <td>A link to ATS has been provided in the RBI web...</td>\n",
       "      <td>Application Tracking System (ATS)</td>\n",
       "    </tr>\n",
       "    <tr>\n",
       "      <th>3</th>\n",
       "      <td>Who receives the application?</td>\n",
       "      <td>The Department / Office selected by the applic...</td>\n",
       "      <td>Application Tracking System (ATS)</td>\n",
       "    </tr>\n",
       "    <tr>\n",
       "      <th>4</th>\n",
       "      <td>Can the ATS application be transferred to any ...</td>\n",
       "      <td>Yes. The applicant will immediately receive a ...</td>\n",
       "      <td>Application Tracking System (ATS)</td>\n",
       "    </tr>\n",
       "    <tr>\n",
       "      <th>5</th>\n",
       "      <td>What happens when an application is transferre...</td>\n",
       "      <td>The application is automatically inwarded in t...</td>\n",
       "      <td>Application Tracking System (ATS)</td>\n",
       "    </tr>\n",
       "    <tr>\n",
       "      <th>6</th>\n",
       "      <td>Is there any limit on the amount of cash that ...</td>\n",
       "      <td>Under the facility of cash withdrawal at PoS t...</td>\n",
       "      <td>Cash Withdrawal Facility at Point of Sale (PoS...</td>\n",
       "    </tr>\n",
       "    <tr>\n",
       "      <th>7</th>\n",
       "      <td>What are the charges for availing this facility?</td>\n",
       "      <td>Yes. Under this facility, a cardholder can wit...</td>\n",
       "      <td>Cash Withdrawal Facility at Point of Sale (PoS...</td>\n",
       "    </tr>\n",
       "    <tr>\n",
       "      <th>8</th>\n",
       "      <td>What are the charges for availing this facility?</td>\n",
       "      <td>Charges, if any, levied on cash withdrawals sh...</td>\n",
       "      <td>Cash Withdrawal Facility at Point of Sale (PoS...</td>\n",
       "    </tr>\n",
       "    <tr>\n",
       "      <th>9</th>\n",
       "      <td>Is this facility available at all merchant est...</td>\n",
       "      <td>No. The facility is made available at merchant...</td>\n",
       "      <td>Cash Withdrawal Facility at Point of Sale (PoS...</td>\n",
       "    </tr>\n",
       "    <tr>\n",
       "      <th>10</th>\n",
       "      <td>Is withdrawal of cash using PoS terminals depl...</td>\n",
       "      <td>Yes. Under this facility, cash can be withdraw...</td>\n",
       "      <td>Cash Withdrawal Facility at Point of Sale (PoS...</td>\n",
       "    </tr>\n",
       "    <tr>\n",
       "      <th>11</th>\n",
       "      <td>Is it mandatory for the cardholder to purchase...</td>\n",
       "      <td>No. The facility is available irrespective of ...</td>\n",
       "      <td>Cash Withdrawal Facility at Point of Sale (PoS...</td>\n",
       "    </tr>\n",
       "    <tr>\n",
       "      <th>12</th>\n",
       "      <td>Will a receipt be provided for the cash withdr...</td>\n",
       "      <td>es. The merchant is required to provide a prin...</td>\n",
       "      <td>Cash Withdrawal Facility at Point of Sale (PoS...</td>\n",
       "    </tr>\n",
       "    <tr>\n",
       "      <th>13</th>\n",
       "      <td>What is an Automated Teller Machine (ATM)?</td>\n",
       "      <td>An ATM is a computerised machine that provides...</td>\n",
       "      <td>ATM/White Label ATM</td>\n",
       "    </tr>\n",
       "    <tr>\n",
       "      <th>14</th>\n",
       "      <td>What are White Label ATMs (WLAs)?</td>\n",
       "      <td>ATMs set up, owned and operated by non-banks a...</td>\n",
       "      <td>ATM/White Label ATM</td>\n",
       "    </tr>\n",
       "    <tr>\n",
       "      <th>15</th>\n",
       "      <td>As a customer, is there any difference in faci...</td>\n",
       "      <td>For a customer, using a WLA is just like using...</td>\n",
       "      <td>ATM/White Label ATM</td>\n",
       "    </tr>\n",
       "    <tr>\n",
       "      <th>16</th>\n",
       "      <td>Can a bank offer more number of free transacti...</td>\n",
       "      <td>RBI has mandated minimum number of free transa...</td>\n",
       "      <td>ATM/White Label ATM</td>\n",
       "    </tr>\n",
       "    <tr>\n",
       "      <th>17</th>\n",
       "      <td>Is the above prescription of free transactions...</td>\n",
       "      <td>The above does not apply to BSBDA as the numbe...</td>\n",
       "      <td>ATM/White Label ATM</td>\n",
       "    </tr>\n",
       "    <tr>\n",
       "      <th>18</th>\n",
       "      <td>How can one know if the ATM location is metro ...</td>\n",
       "      <td>ATM installing banks have been advised to indi...</td>\n",
       "      <td>ATM/White Label ATM</td>\n",
       "    </tr>\n",
       "    <tr>\n",
       "      <th>19</th>\n",
       "      <td>Are customers charged for transactions at ATMs?</td>\n",
       "      <td>Yes, customers can be charged for transactions...</td>\n",
       "      <td>ATM/White Label ATM</td>\n",
       "    </tr>\n",
       "    <tr>\n",
       "      <th>20</th>\n",
       "      <td>What steps should a customer take in case of a...</td>\n",
       "      <td>Though banks are supposed to reverse such tran...</td>\n",
       "      <td>ATM/White Label ATM</td>\n",
       "    </tr>\n",
       "    <tr>\n",
       "      <th>21</th>\n",
       "      <td>What are various types of cards</td>\n",
       "      <td>Cards can be classified on the basis of their ...</td>\n",
       "      <td>Card Transactions</td>\n",
       "    </tr>\n",
       "    <tr>\n",
       "      <th>22</th>\n",
       "      <td>Who issues these cards?</td>\n",
       "      <td>Debit cards are issued by banks and are linked...</td>\n",
       "      <td>Card Transactions</td>\n",
       "    </tr>\n",
       "    <tr>\n",
       "      <th>23</th>\n",
       "      <td>What are the usages of debit cards?</td>\n",
       "      <td>The debit cards can be used to withdraw cash f...</td>\n",
       "      <td>Card Transactions</td>\n",
       "    </tr>\n",
       "    <tr>\n",
       "      <th>24</th>\n",
       "      <td>What are the usages of credit cards?</td>\n",
       "      <td>The credit cards can be used for purchase of g...</td>\n",
       "      <td>Card Transactions</td>\n",
       "    </tr>\n",
       "    <tr>\n",
       "      <th>25</th>\n",
       "      <td>What are the usages of prepaid cards?</td>\n",
       "      <td>By nature, prepaid cards can be (a) Small PPIs...</td>\n",
       "      <td>Card Transactions</td>\n",
       "    </tr>\n",
       "    <tr>\n",
       "      <th>26</th>\n",
       "      <td>What are electronic cards?</td>\n",
       "      <td>Electronic cards can be considered as debit ca...</td>\n",
       "      <td>Card Transactions</td>\n",
       "    </tr>\n",
       "    <tr>\n",
       "      <th>27</th>\n",
       "      <td>What are various methods of using a card at a ...</td>\n",
       "      <td>A card can be dipped (Chip based card), tapped...</td>\n",
       "      <td>Card Transactions</td>\n",
       "    </tr>\n",
       "    <tr>\n",
       "      <th>28</th>\n",
       "      <td>What are Magnetic Stripe cards, EMV Chip &amp; PIN...</td>\n",
       "      <td>The EMV Chip &amp; PIN card stores card data in a ...</td>\n",
       "      <td>Card Transactions</td>\n",
       "    </tr>\n",
       "    <tr>\n",
       "      <th>29</th>\n",
       "      <td>What are Card Present (CP) and Card Not Presen...</td>\n",
       "      <td>A CP transaction is a card transaction that is...</td>\n",
       "      <td>Card Transactions</td>\n",
       "    </tr>\n",
       "    <tr>\n",
       "      <th>30</th>\n",
       "      <td>Who decides the limits for cash withdrawal or ...</td>\n",
       "      <td>The limits on cash withdrawal at ATMs and for ...</td>\n",
       "      <td>Card Transactions</td>\n",
       "    </tr>\n",
       "    <tr>\n",
       "      <th>31</th>\n",
       "      <td>Is there any way a customer can quickly come t...</td>\n",
       "      <td>RBI has been taking various steps to ensure th...</td>\n",
       "      <td>Card Transactions</td>\n",
       "    </tr>\n",
       "    <tr>\n",
       "      <th>32</th>\n",
       "      <td>How are the transactions carried out through c...</td>\n",
       "      <td>All CP and CNP transactions on cards issued in...</td>\n",
       "      <td>Card Transactions</td>\n",
       "    </tr>\n",
       "    <tr>\n",
       "      <th>33</th>\n",
       "      <td>What does RTGS stand for?</td>\n",
       "      <td>The acronym 'RTGS' stands for Real Time Gross ...</td>\n",
       "      <td>Real Time Gross Settlement System (RTGS) System</td>\n",
       "    </tr>\n",
       "    <tr>\n",
       "      <th>34</th>\n",
       "      <td>Are the payments under RTGS final and irrevoca...</td>\n",
       "      <td>Considering that the funds settlement takes pl...</td>\n",
       "      <td>Real Time Gross Settlement System (RTGS) System</td>\n",
       "    </tr>\n",
       "    <tr>\n",
       "      <th>35</th>\n",
       "      <td>How is the processing of RTGS different from t...</td>\n",
       "      <td>NEFT is an electronic fund transfer system in ...</td>\n",
       "      <td>Real Time Gross Settlement System (RTGS) System</td>\n",
       "    </tr>\n",
       "    <tr>\n",
       "      <th>36</th>\n",
       "      <td>Is RTGS a 24x7 system or are there some timing...</td>\n",
       "      <td>RTGS is available 24x7x365 with effect from De...</td>\n",
       "      <td>Real Time Gross Settlement System (RTGS) System</td>\n",
       "    </tr>\n",
       "    <tr>\n",
       "      <th>37</th>\n",
       "      <td>Is there any minimum / maximum amount stipulat...</td>\n",
       "      <td>The RTGS system is primarily meant for large v...</td>\n",
       "      <td>Real Time Gross Settlement System (RTGS) System</td>\n",
       "    </tr>\n",
       "    <tr>\n",
       "      <th>38</th>\n",
       "      <td>What about processing charges / service charge...</td>\n",
       "      <td>a) Inward transactions  Free, no charge to be...</td>\n",
       "      <td>Real Time Gross Settlement System (RTGS) System</td>\n",
       "    </tr>\n",
       "    <tr>\n",
       "      <th>39</th>\n",
       "      <td>How would one know the IFSC number of the rece...</td>\n",
       "      <td>The IFSC number can be obtained by the remitte...</td>\n",
       "      <td>Real Time Gross Settlement System (RTGS) System</td>\n",
       "    </tr>\n",
       "    <tr>\n",
       "      <th>40</th>\n",
       "      <td>What is the time taken for effecting funds tra...</td>\n",
       "      <td>Under normal circumstances, the beneficiary br...</td>\n",
       "      <td>Real Time Gross Settlement System (RTGS) System</td>\n",
       "    </tr>\n",
       "    <tr>\n",
       "      <th>41</th>\n",
       "      <td>Can a remitting customer initiate a transactio...</td>\n",
       "      <td>No, the RTGS system does not accept future val...</td>\n",
       "      <td>Real Time Gross Settlement System (RTGS) System</td>\n",
       "    </tr>\n",
       "    <tr>\n",
       "      <th>42</th>\n",
       "      <td>Can a transaction be originated to draw (recei...</td>\n",
       "      <td>No. RTGS is a credit-push system i.e., transac...</td>\n",
       "      <td>Real Time Gross Settlement System (RTGS) System</td>\n",
       "    </tr>\n",
       "    <tr>\n",
       "      <th>43</th>\n",
       "      <td>Can an RTGS transaction be tracked? Would the ...</td>\n",
       "      <td>While the customers do not have the facility t...</td>\n",
       "      <td>Real Time Gross Settlement System (RTGS) System</td>\n",
       "    </tr>\n",
       "    <tr>\n",
       "      <th>44</th>\n",
       "      <td>Is a customer eligible to get compensation for...</td>\n",
       "      <td>In case of any delay in returning the failed p...</td>\n",
       "      <td>Real Time Gross Settlement System (RTGS) System</td>\n",
       "    </tr>\n",
       "    <tr>\n",
       "      <th>45</th>\n",
       "      <td>What is UTR number?</td>\n",
       "      <td>Unique Transaction Reference (UTR) number is a...</td>\n",
       "      <td>Real Time Gross Settlement System (RTGS) System</td>\n",
       "    </tr>\n",
       "    <tr>\n",
       "      <th>46</th>\n",
       "      <td>What is the Help Desk / Contact point at the RBI?</td>\n",
       "      <td>You may approach RTGS Help Desk / Contact poin...</td>\n",
       "      <td>Real Time Gross Settlement System (RTGS) System</td>\n",
       "    </tr>\n",
       "    <tr>\n",
       "      <th>47</th>\n",
       "      <td>What is National Electronic Funds Transfer sys...</td>\n",
       "      <td>National Electronic Funds Transfer (NEFT) is a...</td>\n",
       "      <td>National Electronic Funds Transfer (NEFT) System</td>\n",
       "    </tr>\n",
       "    <tr>\n",
       "      <th>48</th>\n",
       "      <td>Who can avail NEFT system for fund transfer / ...</td>\n",
       "      <td>Individuals, firms and corporates maintaining ...</td>\n",
       "      <td>National Electronic Funds Transfer (NEFT) System</td>\n",
       "    </tr>\n",
       "    <tr>\n",
       "      <th>49</th>\n",
       "      <td>Is there any limit on funds / amount to be rem...</td>\n",
       "      <td>No, there is no limit imposed by the RBI for f...</td>\n",
       "      <td>National Electronic Funds Transfer (NEFT) System</td>\n",
       "    </tr>\n",
       "    <tr>\n",
       "      <th>50</th>\n",
       "      <td>Can the NEFT system be used for remitting fund...</td>\n",
       "      <td>Yes, a person who does not have a bank account...</td>\n",
       "      <td>National Electronic Funds Transfer (NEFT) System</td>\n",
       "    </tr>\n",
       "    <tr>\n",
       "      <th>51</th>\n",
       "      <td>Can I send funds to my relative / friend resid...</td>\n",
       "      <td>The outbound remittances through NEFT system a...</td>\n",
       "      <td>National Electronic Funds Transfer (NEFT) System</td>\n",
       "    </tr>\n",
       "    <tr>\n",
       "      <th>52</th>\n",
       "      <td>What are the operating hours of NEFT?</td>\n",
       "      <td>The NEFT system is available round the clock t...</td>\n",
       "      <td>National Electronic Funds Transfer (NEFT) System</td>\n",
       "    </tr>\n",
       "    <tr>\n",
       "      <th>53</th>\n",
       "      <td>What are the essential details required for re...</td>\n",
       "      <td>Beneficiary's Name, Beneficiary's Branch Name,...</td>\n",
       "      <td>National Electronic Funds Transfer (NEFT) System</td>\n",
       "    </tr>\n",
       "    <tr>\n",
       "      <th>54</th>\n",
       "      <td>Can I use NEFT to transfer funds from / to NRE...</td>\n",
       "      <td>Yes, NEFT can be used to transfer funds from /...</td>\n",
       "      <td>National Electronic Funds Transfer (NEFT) System</td>\n",
       "    </tr>\n",
       "    <tr>\n",
       "      <th>55</th>\n",
       "      <td>Can I originate a NEFT transaction to draw / r...</td>\n",
       "      <td>No. NEFT is a credit-push system i.e., transac...</td>\n",
       "      <td>National Electronic Funds Transfer (NEFT) System</td>\n",
       "    </tr>\n",
       "    <tr>\n",
       "      <th>56</th>\n",
       "      <td>How much time should I expect for receipt of f...</td>\n",
       "      <td>A timeline of two hours from the batch settlem...</td>\n",
       "      <td>National Electronic Funds Transfer (NEFT) System</td>\n",
       "    </tr>\n",
       "    <tr>\n",
       "      <th>57</th>\n",
       "      <td>What happens if funds are not credited to the ...</td>\n",
       "      <td>If it is not possible to afford credit to the ...</td>\n",
       "      <td>National Electronic Funds Transfer (NEFT) System</td>\n",
       "    </tr>\n",
       "    <tr>\n",
       "      <th>58</th>\n",
       "      <td>What are the penalties / compensation for dela...</td>\n",
       "      <td>If the NEFT transaction is not credited or ret...</td>\n",
       "      <td>National Electronic Funds Transfer (NEFT) System</td>\n",
       "    </tr>\n",
       "    <tr>\n",
       "      <th>59</th>\n",
       "      <td>What happens if I write wrong account number o...</td>\n",
       "      <td>The credit is given to the account number writ...</td>\n",
       "      <td>National Electronic Funds Transfer (NEFT) System</td>\n",
       "    </tr>\n",
       "  </tbody>\n",
       "</table>\n",
       "</div>"
      ],
      "text/plain": [
       "                                             Question  \\\n",
       "0                                    What is the ATS?   \n",
       "1                             What is an application?   \n",
       "2                        How can the ATS be accessed?   \n",
       "3                       Who receives the application?   \n",
       "4   Can the ATS application be transferred to any ...   \n",
       "5   What happens when an application is transferre...   \n",
       "6   Is there any limit on the amount of cash that ...   \n",
       "7    What are the charges for availing this facility?   \n",
       "8    What are the charges for availing this facility?   \n",
       "9   Is this facility available at all merchant est...   \n",
       "10  Is withdrawal of cash using PoS terminals depl...   \n",
       "11  Is it mandatory for the cardholder to purchase...   \n",
       "12  Will a receipt be provided for the cash withdr...   \n",
       "13         What is an Automated Teller Machine (ATM)?   \n",
       "14                  What are White Label ATMs (WLAs)?   \n",
       "15  As a customer, is there any difference in faci...   \n",
       "16  Can a bank offer more number of free transacti...   \n",
       "17  Is the above prescription of free transactions...   \n",
       "18  How can one know if the ATM location is metro ...   \n",
       "19    Are customers charged for transactions at ATMs?   \n",
       "20  What steps should a customer take in case of a...   \n",
       "21                    What are various types of cards   \n",
       "22                            Who issues these cards?   \n",
       "23                What are the usages of debit cards?   \n",
       "24               What are the usages of credit cards?   \n",
       "25              What are the usages of prepaid cards?   \n",
       "26                         What are electronic cards?   \n",
       "27  What are various methods of using a card at a ...   \n",
       "28  What are Magnetic Stripe cards, EMV Chip & PIN...   \n",
       "29  What are Card Present (CP) and Card Not Presen...   \n",
       "30  Who decides the limits for cash withdrawal or ...   \n",
       "31  Is there any way a customer can quickly come t...   \n",
       "32  How are the transactions carried out through c...   \n",
       "33                          What does RTGS stand for?   \n",
       "34  Are the payments under RTGS final and irrevoca...   \n",
       "35  How is the processing of RTGS different from t...   \n",
       "36  Is RTGS a 24x7 system or are there some timing...   \n",
       "37  Is there any minimum / maximum amount stipulat...   \n",
       "38  What about processing charges / service charge...   \n",
       "39  How would one know the IFSC number of the rece...   \n",
       "40  What is the time taken for effecting funds tra...   \n",
       "41  Can a remitting customer initiate a transactio...   \n",
       "42  Can a transaction be originated to draw (recei...   \n",
       "43  Can an RTGS transaction be tracked? Would the ...   \n",
       "44  Is a customer eligible to get compensation for...   \n",
       "45                                What is UTR number?   \n",
       "46  What is the Help Desk / Contact point at the RBI?   \n",
       "47  What is National Electronic Funds Transfer sys...   \n",
       "48  Who can avail NEFT system for fund transfer / ...   \n",
       "49  Is there any limit on funds / amount to be rem...   \n",
       "50  Can the NEFT system be used for remitting fund...   \n",
       "51  Can I send funds to my relative / friend resid...   \n",
       "52              What are the operating hours of NEFT?   \n",
       "53  What are the essential details required for re...   \n",
       "54  Can I use NEFT to transfer funds from / to NRE...   \n",
       "55  Can I originate a NEFT transaction to draw / r...   \n",
       "56  How much time should I expect for receipt of f...   \n",
       "57  What happens if funds are not credited to the ...   \n",
       "58  What are the penalties / compensation for dela...   \n",
       "59  What happens if I write wrong account number o...   \n",
       "\n",
       "                                               Answer  \\\n",
       "0   The ATS is an Application Tracking System, hos...   \n",
       "1   An application can be any application, address...   \n",
       "2   A link to ATS has been provided in the RBI web...   \n",
       "3   The Department / Office selected by the applic...   \n",
       "4   Yes. The applicant will immediately receive a ...   \n",
       "5   The application is automatically inwarded in t...   \n",
       "6   Under the facility of cash withdrawal at PoS t...   \n",
       "7   Yes. Under this facility, a cardholder can wit...   \n",
       "8   Charges, if any, levied on cash withdrawals sh...   \n",
       "9   No. The facility is made available at merchant...   \n",
       "10  Yes. Under this facility, cash can be withdraw...   \n",
       "11  No. The facility is available irrespective of ...   \n",
       "12  es. The merchant is required to provide a prin...   \n",
       "13  An ATM is a computerised machine that provides...   \n",
       "14  ATMs set up, owned and operated by non-banks a...   \n",
       "15  For a customer, using a WLA is just like using...   \n",
       "16  RBI has mandated minimum number of free transa...   \n",
       "17  The above does not apply to BSBDA as the numbe...   \n",
       "18  ATM installing banks have been advised to indi...   \n",
       "19  Yes, customers can be charged for transactions...   \n",
       "20  Though banks are supposed to reverse such tran...   \n",
       "21  Cards can be classified on the basis of their ...   \n",
       "22  Debit cards are issued by banks and are linked...   \n",
       "23  The debit cards can be used to withdraw cash f...   \n",
       "24  The credit cards can be used for purchase of g...   \n",
       "25  By nature, prepaid cards can be (a) Small PPIs...   \n",
       "26  Electronic cards can be considered as debit ca...   \n",
       "27  A card can be dipped (Chip based card), tapped...   \n",
       "28  The EMV Chip & PIN card stores card data in a ...   \n",
       "29  A CP transaction is a card transaction that is...   \n",
       "30  The limits on cash withdrawal at ATMs and for ...   \n",
       "31  RBI has been taking various steps to ensure th...   \n",
       "32  All CP and CNP transactions on cards issued in...   \n",
       "33  The acronym 'RTGS' stands for Real Time Gross ...   \n",
       "34  Considering that the funds settlement takes pl...   \n",
       "35  NEFT is an electronic fund transfer system in ...   \n",
       "36  RTGS is available 24x7x365 with effect from De...   \n",
       "37  The RTGS system is primarily meant for large v...   \n",
       "38  a) Inward transactions  Free, no charge to be...   \n",
       "39  The IFSC number can be obtained by the remitte...   \n",
       "40  Under normal circumstances, the beneficiary br...   \n",
       "41  No, the RTGS system does not accept future val...   \n",
       "42  No. RTGS is a credit-push system i.e., transac...   \n",
       "43  While the customers do not have the facility t...   \n",
       "44  In case of any delay in returning the failed p...   \n",
       "45  Unique Transaction Reference (UTR) number is a...   \n",
       "46  You may approach RTGS Help Desk / Contact poin...   \n",
       "47  National Electronic Funds Transfer (NEFT) is a...   \n",
       "48  Individuals, firms and corporates maintaining ...   \n",
       "49  No, there is no limit imposed by the RBI for f...   \n",
       "50  Yes, a person who does not have a bank account...   \n",
       "51  The outbound remittances through NEFT system a...   \n",
       "52  The NEFT system is available round the clock t...   \n",
       "53  Beneficiary's Name, Beneficiary's Branch Name,...   \n",
       "54  Yes, NEFT can be used to transfer funds from /...   \n",
       "55  No. NEFT is a credit-push system i.e., transac...   \n",
       "56  A timeline of two hours from the batch settlem...   \n",
       "57  If it is not possible to afford credit to the ...   \n",
       "58  If the NEFT transaction is not credited or ret...   \n",
       "59  The credit is given to the account number writ...   \n",
       "\n",
       "                                                Class  \n",
       "0                   Application Tracking System (ATS)  \n",
       "1                   Application Tracking System (ATS)  \n",
       "2                   Application Tracking System (ATS)  \n",
       "3                   Application Tracking System (ATS)  \n",
       "4                   Application Tracking System (ATS)  \n",
       "5                   Application Tracking System (ATS)  \n",
       "6   Cash Withdrawal Facility at Point of Sale (PoS...  \n",
       "7   Cash Withdrawal Facility at Point of Sale (PoS...  \n",
       "8   Cash Withdrawal Facility at Point of Sale (PoS...  \n",
       "9   Cash Withdrawal Facility at Point of Sale (PoS...  \n",
       "10  Cash Withdrawal Facility at Point of Sale (PoS...  \n",
       "11  Cash Withdrawal Facility at Point of Sale (PoS...  \n",
       "12  Cash Withdrawal Facility at Point of Sale (PoS...  \n",
       "13                                ATM/White Label ATM  \n",
       "14                                ATM/White Label ATM  \n",
       "15                                ATM/White Label ATM  \n",
       "16                                ATM/White Label ATM  \n",
       "17                                ATM/White Label ATM  \n",
       "18                                ATM/White Label ATM  \n",
       "19                                ATM/White Label ATM  \n",
       "20                                ATM/White Label ATM  \n",
       "21                                  Card Transactions  \n",
       "22                                  Card Transactions  \n",
       "23                                  Card Transactions  \n",
       "24                                  Card Transactions  \n",
       "25                                  Card Transactions  \n",
       "26                                  Card Transactions  \n",
       "27                                  Card Transactions  \n",
       "28                                  Card Transactions  \n",
       "29                                  Card Transactions  \n",
       "30                                  Card Transactions  \n",
       "31                                  Card Transactions  \n",
       "32                                  Card Transactions  \n",
       "33    Real Time Gross Settlement System (RTGS) System  \n",
       "34    Real Time Gross Settlement System (RTGS) System  \n",
       "35    Real Time Gross Settlement System (RTGS) System  \n",
       "36    Real Time Gross Settlement System (RTGS) System  \n",
       "37    Real Time Gross Settlement System (RTGS) System  \n",
       "38    Real Time Gross Settlement System (RTGS) System  \n",
       "39    Real Time Gross Settlement System (RTGS) System  \n",
       "40    Real Time Gross Settlement System (RTGS) System  \n",
       "41    Real Time Gross Settlement System (RTGS) System  \n",
       "42    Real Time Gross Settlement System (RTGS) System  \n",
       "43    Real Time Gross Settlement System (RTGS) System  \n",
       "44    Real Time Gross Settlement System (RTGS) System  \n",
       "45    Real Time Gross Settlement System (RTGS) System  \n",
       "46    Real Time Gross Settlement System (RTGS) System  \n",
       "47   National Electronic Funds Transfer (NEFT) System  \n",
       "48   National Electronic Funds Transfer (NEFT) System  \n",
       "49   National Electronic Funds Transfer (NEFT) System  \n",
       "50   National Electronic Funds Transfer (NEFT) System  \n",
       "51   National Electronic Funds Transfer (NEFT) System  \n",
       "52   National Electronic Funds Transfer (NEFT) System  \n",
       "53   National Electronic Funds Transfer (NEFT) System  \n",
       "54   National Electronic Funds Transfer (NEFT) System  \n",
       "55   National Electronic Funds Transfer (NEFT) System  \n",
       "56   National Electronic Funds Transfer (NEFT) System  \n",
       "57   National Electronic Funds Transfer (NEFT) System  \n",
       "58   National Electronic Funds Transfer (NEFT) System  \n",
       "59   National Electronic Funds Transfer (NEFT) System  "
      ]
     },
     "execution_count": 10,
     "metadata": {},
     "output_type": "execute_result"
    }
   ],
   "source": [
    "#2 nd dataset\n",
    "df1=pd.read_csv(\"C://asktaloes_datset//BankFAQs1.csv\",encoding='ISO-8859-1')\n",
    "df1"
   ]
  },
  {
   "cell_type": "code",
   "execution_count": 11,
   "id": "5d67482b",
   "metadata": {},
   "outputs": [
    {
     "data": {
      "text/plain": [
       "Question    0\n",
       "Answer      0\n",
       "Class       0\n",
       "dtype: int64"
      ]
     },
     "execution_count": 11,
     "metadata": {},
     "output_type": "execute_result"
    }
   ],
   "source": [
    "#finding null values \n",
    "df1.isnull().sum()"
   ]
  },
  {
   "cell_type": "code",
   "execution_count": 12,
   "id": "7032c270",
   "metadata": {},
   "outputs": [
    {
     "data": {
      "text/html": [
       "<div>\n",
       "<style scoped>\n",
       "    .dataframe tbody tr th:only-of-type {\n",
       "        vertical-align: middle;\n",
       "    }\n",
       "\n",
       "    .dataframe tbody tr th {\n",
       "        vertical-align: top;\n",
       "    }\n",
       "\n",
       "    .dataframe thead th {\n",
       "        text-align: right;\n",
       "    }\n",
       "</style>\n",
       "<table border=\"1\" class=\"dataframe\">\n",
       "  <thead>\n",
       "    <tr style=\"text-align: right;\">\n",
       "      <th></th>\n",
       "      <th>Question</th>\n",
       "      <th>Answer</th>\n",
       "      <th>Class</th>\n",
       "    </tr>\n",
       "  </thead>\n",
       "  <tbody>\n",
       "    <tr>\n",
       "      <th>0</th>\n",
       "      <td>What is the ATS?</td>\n",
       "      <td>The ATS is an Application Tracking System, hos...</td>\n",
       "      <td>Application Tracking System (ATS)</td>\n",
       "    </tr>\n",
       "    <tr>\n",
       "      <th>1</th>\n",
       "      <td>What is an application?</td>\n",
       "      <td>An application can be any application, address...</td>\n",
       "      <td>Application Tracking System (ATS)</td>\n",
       "    </tr>\n",
       "    <tr>\n",
       "      <th>2</th>\n",
       "      <td>How can the ATS be accessed?</td>\n",
       "      <td>A link to ATS has been provided in the RBI web...</td>\n",
       "      <td>Application Tracking System (ATS)</td>\n",
       "    </tr>\n",
       "    <tr>\n",
       "      <th>3</th>\n",
       "      <td>Who receives the application?</td>\n",
       "      <td>The Department / Office selected by the applic...</td>\n",
       "      <td>Application Tracking System (ATS)</td>\n",
       "    </tr>\n",
       "    <tr>\n",
       "      <th>4</th>\n",
       "      <td>Can the ATS application be transferred to any ...</td>\n",
       "      <td>Yes. The applicant will immediately receive a ...</td>\n",
       "      <td>Application Tracking System (ATS)</td>\n",
       "    </tr>\n",
       "    <tr>\n",
       "      <th>...</th>\n",
       "      <td>...</td>\n",
       "      <td>...</td>\n",
       "      <td>...</td>\n",
       "    </tr>\n",
       "    <tr>\n",
       "      <th>1768</th>\n",
       "      <td>Which languages do you speak</td>\n",
       "      <td>just English. But I'm trying to learn new lang...</td>\n",
       "      <td>accounts</td>\n",
       "    </tr>\n",
       "    <tr>\n",
       "      <th>1769</th>\n",
       "      <td>how much is interest for FD</td>\n",
       "      <td>7%</td>\n",
       "      <td>accounts</td>\n",
       "    </tr>\n",
       "    <tr>\n",
       "      <th>1770</th>\n",
       "      <td>how much is interest for Fixed Deposit</td>\n",
       "      <td>7%</td>\n",
       "      <td>accounts</td>\n",
       "    </tr>\n",
       "    <tr>\n",
       "      <th>1771</th>\n",
       "      <td>Fixed Deposit</td>\n",
       "      <td>7%</td>\n",
       "      <td>accounts</td>\n",
       "    </tr>\n",
       "    <tr>\n",
       "      <th>1772</th>\n",
       "      <td>FD</td>\n",
       "      <td>7%</td>\n",
       "      <td>accounts</td>\n",
       "    </tr>\n",
       "  </tbody>\n",
       "</table>\n",
       "<p>1833 rows × 3 columns</p>\n",
       "</div>"
      ],
      "text/plain": [
       "                                               Question  \\\n",
       "0                                      What is the ATS?   \n",
       "1                               What is an application?   \n",
       "2                          How can the ATS be accessed?   \n",
       "3                         Who receives the application?   \n",
       "4     Can the ATS application be transferred to any ...   \n",
       "...                                                 ...   \n",
       "1768                       Which languages do you speak   \n",
       "1769                        how much is interest for FD   \n",
       "1770             how much is interest for Fixed Deposit   \n",
       "1771                                      Fixed Deposit   \n",
       "1772                                                 FD   \n",
       "\n",
       "                                                 Answer  \\\n",
       "0     The ATS is an Application Tracking System, hos...   \n",
       "1     An application can be any application, address...   \n",
       "2     A link to ATS has been provided in the RBI web...   \n",
       "3     The Department / Office selected by the applic...   \n",
       "4     Yes. The applicant will immediately receive a ...   \n",
       "...                                                 ...   \n",
       "1768  just English. But I'm trying to learn new lang...   \n",
       "1769                                                 7%   \n",
       "1770                                                 7%   \n",
       "1771                                                 7%   \n",
       "1772                                                 7%   \n",
       "\n",
       "                                  Class  \n",
       "0     Application Tracking System (ATS)  \n",
       "1     Application Tracking System (ATS)  \n",
       "2     Application Tracking System (ATS)  \n",
       "3     Application Tracking System (ATS)  \n",
       "4     Application Tracking System (ATS)  \n",
       "...                                 ...  \n",
       "1768                           accounts  \n",
       "1769                           accounts  \n",
       "1770                           accounts  \n",
       "1771                           accounts  \n",
       "1772                           accounts  \n",
       "\n",
       "[1833 rows x 3 columns]"
      ]
     },
     "execution_count": 12,
     "metadata": {},
     "output_type": "execute_result"
    }
   ],
   "source": [
    "#merging data set\n",
    "data1=pd.concat([df1,df])\n",
    "data1"
   ]
  },
  {
   "cell_type": "code",
   "execution_count": 13,
   "id": "f1edb83a",
   "metadata": {},
   "outputs": [
    {
     "name": "stdout",
     "output_type": "stream",
     "text": [
      "<class 'pandas.core.frame.DataFrame'>\n",
      "Int64Index: 1833 entries, 0 to 1772\n",
      "Data columns (total 3 columns):\n",
      " #   Column    Non-Null Count  Dtype \n",
      "---  ------    --------------  ----- \n",
      " 0   Question  1833 non-null   object\n",
      " 1   Answer    1833 non-null   object\n",
      " 2   Class     1833 non-null   object\n",
      "dtypes: object(3)\n",
      "memory usage: 57.3+ KB\n"
     ]
    }
   ],
   "source": [
    "data1.info()"
   ]
  },
  {
   "cell_type": "code",
   "execution_count": 14,
   "id": "13cc46c4",
   "metadata": {},
   "outputs": [
    {
     "data": {
      "text/html": [
       "<div>\n",
       "<style scoped>\n",
       "    .dataframe tbody tr th:only-of-type {\n",
       "        vertical-align: middle;\n",
       "    }\n",
       "\n",
       "    .dataframe tbody tr th {\n",
       "        vertical-align: top;\n",
       "    }\n",
       "\n",
       "    .dataframe thead th {\n",
       "        text-align: right;\n",
       "    }\n",
       "</style>\n",
       "<table border=\"1\" class=\"dataframe\">\n",
       "  <thead>\n",
       "    <tr style=\"text-align: right;\">\n",
       "      <th></th>\n",
       "      <th>Question</th>\n",
       "      <th>Answer</th>\n",
       "      <th>Class</th>\n",
       "    </tr>\n",
       "  </thead>\n",
       "  <tbody>\n",
       "    <tr>\n",
       "      <th>0</th>\n",
       "      <td>What is the ATS?</td>\n",
       "      <td>The ATS is an Application Tracking System, hos...</td>\n",
       "      <td>Application Tracking System (ATS)</td>\n",
       "    </tr>\n",
       "    <tr>\n",
       "      <th>1</th>\n",
       "      <td>What is an application?</td>\n",
       "      <td>An application can be any application, address...</td>\n",
       "      <td>Application Tracking System (ATS)</td>\n",
       "    </tr>\n",
       "    <tr>\n",
       "      <th>2</th>\n",
       "      <td>How can the ATS be accessed?</td>\n",
       "      <td>A link to ATS has been provided in the RBI web...</td>\n",
       "      <td>Application Tracking System (ATS)</td>\n",
       "    </tr>\n",
       "    <tr>\n",
       "      <th>3</th>\n",
       "      <td>Who receives the application?</td>\n",
       "      <td>The Department / Office selected by the applic...</td>\n",
       "      <td>Application Tracking System (ATS)</td>\n",
       "    </tr>\n",
       "    <tr>\n",
       "      <th>4</th>\n",
       "      <td>Can the ATS application be transferred to any ...</td>\n",
       "      <td>Yes. The applicant will immediately receive a ...</td>\n",
       "      <td>Application Tracking System (ATS)</td>\n",
       "    </tr>\n",
       "    <tr>\n",
       "      <th>...</th>\n",
       "      <td>...</td>\n",
       "      <td>...</td>\n",
       "      <td>...</td>\n",
       "    </tr>\n",
       "    <tr>\n",
       "      <th>1768</th>\n",
       "      <td>Which languages do you speak</td>\n",
       "      <td>just English. But I'm trying to learn new lang...</td>\n",
       "      <td>accounts</td>\n",
       "    </tr>\n",
       "    <tr>\n",
       "      <th>1769</th>\n",
       "      <td>how much is interest for FD</td>\n",
       "      <td>7%</td>\n",
       "      <td>accounts</td>\n",
       "    </tr>\n",
       "    <tr>\n",
       "      <th>1770</th>\n",
       "      <td>how much is interest for Fixed Deposit</td>\n",
       "      <td>7%</td>\n",
       "      <td>accounts</td>\n",
       "    </tr>\n",
       "    <tr>\n",
       "      <th>1771</th>\n",
       "      <td>Fixed Deposit</td>\n",
       "      <td>7%</td>\n",
       "      <td>accounts</td>\n",
       "    </tr>\n",
       "    <tr>\n",
       "      <th>1772</th>\n",
       "      <td>FD</td>\n",
       "      <td>7%</td>\n",
       "      <td>accounts</td>\n",
       "    </tr>\n",
       "  </tbody>\n",
       "</table>\n",
       "<p>1559 rows × 3 columns</p>\n",
       "</div>"
      ],
      "text/plain": [
       "                                               Question  \\\n",
       "0                                      What is the ATS?   \n",
       "1                               What is an application?   \n",
       "2                          How can the ATS be accessed?   \n",
       "3                         Who receives the application?   \n",
       "4     Can the ATS application be transferred to any ...   \n",
       "...                                                 ...   \n",
       "1768                       Which languages do you speak   \n",
       "1769                        how much is interest for FD   \n",
       "1770             how much is interest for Fixed Deposit   \n",
       "1771                                      Fixed Deposit   \n",
       "1772                                                 FD   \n",
       "\n",
       "                                                 Answer  \\\n",
       "0     The ATS is an Application Tracking System, hos...   \n",
       "1     An application can be any application, address...   \n",
       "2     A link to ATS has been provided in the RBI web...   \n",
       "3     The Department / Office selected by the applic...   \n",
       "4     Yes. The applicant will immediately receive a ...   \n",
       "...                                                 ...   \n",
       "1768  just English. But I'm trying to learn new lang...   \n",
       "1769                                                 7%   \n",
       "1770                                                 7%   \n",
       "1771                                                 7%   \n",
       "1772                                                 7%   \n",
       "\n",
       "                                  Class  \n",
       "0     Application Tracking System (ATS)  \n",
       "1     Application Tracking System (ATS)  \n",
       "2     Application Tracking System (ATS)  \n",
       "3     Application Tracking System (ATS)  \n",
       "4     Application Tracking System (ATS)  \n",
       "...                                 ...  \n",
       "1768                           accounts  \n",
       "1769                           accounts  \n",
       "1770                           accounts  \n",
       "1771                           accounts  \n",
       "1772                           accounts  \n",
       "\n",
       "[1559 rows x 3 columns]"
      ]
     },
     "execution_count": 14,
     "metadata": {},
     "output_type": "execute_result"
    }
   ],
   "source": [
    "#dropping duplicate value\n",
    "data1.drop_duplicates(inplace=True)\n",
    "data1"
   ]
  },
  {
   "cell_type": "code",
   "execution_count": 15,
   "id": "2bc485f9",
   "metadata": {},
   "outputs": [
    {
     "data": {
      "text/plain": [
       "Question    0\n",
       "Answer      0\n",
       "Class       0\n",
       "dtype: int64"
      ]
     },
     "execution_count": 15,
     "metadata": {},
     "output_type": "execute_result"
    }
   ],
   "source": [
    "data1.isnull().sum()"
   ]
  },
  {
   "cell_type": "code",
   "execution_count": 16,
   "id": "ba197837",
   "metadata": {},
   "outputs": [
    {
     "data": {
      "text/plain": [
       "Question    1402\n",
       "Answer      1506\n",
       "Class         13\n",
       "dtype: int64"
      ]
     },
     "execution_count": 16,
     "metadata": {},
     "output_type": "execute_result"
    }
   ],
   "source": [
    "data1.nunique()\n"
   ]
  },
  {
   "cell_type": "code",
   "execution_count": 17,
   "id": "335f1a02",
   "metadata": {},
   "outputs": [
    {
     "data": {
      "text/plain": [
       "array(['What is the ATS?', 'What is an application?',\n",
       "       'How can the ATS be accessed?', ...,\n",
       "       'how much is interest for Fixed Deposit', 'Fixed Deposit', 'FD'],\n",
       "      dtype=object)"
      ]
     },
     "execution_count": 17,
     "metadata": {},
     "output_type": "execute_result"
    }
   ],
   "source": [
    "data1[\"Question\"].unique()"
   ]
  },
  {
   "cell_type": "code",
   "execution_count": 18,
   "id": "be9cce01",
   "metadata": {},
   "outputs": [
    {
     "data": {
      "text/plain": [
       "array(['The ATS is an Application Tracking System, hosted on the public website of the Reserve Bank of India (RBI), which has been developed for members of the public to submit any individual application to RBI and keep track of the status of its disposal thereafter.',\n",
       "       'An application can be any application, addressed to any department of RBI, through which members of the public can apply (except such applications for which specific instructions have been given regarding mode of submission, etc.)',\n",
       "       'A link to ATS has been provided in the RBI website http://www.rbi.org.in.',\n",
       "       ..., 'I can help you with any kind of banking queries!',\n",
       "       \"just English. But I'm trying to learn new languages\", '7%'],\n",
       "      dtype=object)"
      ]
     },
     "execution_count": 18,
     "metadata": {},
     "output_type": "execute_result"
    }
   ],
   "source": [
    "data1['Answer'].unique()"
   ]
  },
  {
   "cell_type": "code",
   "execution_count": 19,
   "id": "eb19fa03",
   "metadata": {},
   "outputs": [
    {
     "data": {
      "text/plain": [
       "array(['Application Tracking System (ATS)',\n",
       "       'Cash Withdrawal Facility at Point of Sale (PoS) Terminals',\n",
       "       'ATM/White Label ATM', 'Card Transactions',\n",
       "       'Real Time Gross Settlement System (RTGS) System',\n",
       "       'National Electronic Funds Transfer (NEFT) System'], dtype=object)"
      ]
     },
     "execution_count": 19,
     "metadata": {},
     "output_type": "execute_result"
    }
   ],
   "source": [
    "df1[\"Class\"].unique()"
   ]
  },
  {
   "cell_type": "code",
   "execution_count": 20,
   "id": "ca778f73",
   "metadata": {},
   "outputs": [
    {
     "name": "stdout",
     "output_type": "stream",
     "text": [
      "<class 'pandas.core.frame.DataFrame'>\n",
      "Int64Index: 1559 entries, 0 to 1772\n",
      "Data columns (total 3 columns):\n",
      " #   Column    Non-Null Count  Dtype \n",
      "---  ------    --------------  ----- \n",
      " 0   Question  1559 non-null   object\n",
      " 1   Answer    1559 non-null   object\n",
      " 2   Class     1559 non-null   object\n",
      "dtypes: object(3)\n",
      "memory usage: 48.7+ KB\n"
     ]
    }
   ],
   "source": [
    "data1.info()"
   ]
  },
  {
   "cell_type": "code",
   "execution_count": 21,
   "id": "6870eda2",
   "metadata": {
    "scrolled": true
   },
   "outputs": [
    {
     "data": {
      "text/plain": [
       "Question    0\n",
       "Answer      0\n",
       "Class       0\n",
       "dtype: int64"
      ]
     },
     "execution_count": 21,
     "metadata": {},
     "output_type": "execute_result"
    }
   ],
   "source": [
    "data1.isnull().sum()"
   ]
  },
  {
   "cell_type": "code",
   "execution_count": 22,
   "id": "73766bf5",
   "metadata": {},
   "outputs": [
    {
     "data": {
      "text/plain": [
       "Index(['Question', 'Answer', 'Class'], dtype='object')"
      ]
     },
     "execution_count": 22,
     "metadata": {},
     "output_type": "execute_result"
    }
   ],
   "source": [
    "data1.columns"
   ]
  },
  {
   "cell_type": "code",
   "execution_count": 23,
   "id": "3a6c3bda",
   "metadata": {
    "scrolled": true
   },
   "outputs": [
    {
     "data": {
      "text/html": [
       "<div>\n",
       "<style scoped>\n",
       "    .dataframe tbody tr th:only-of-type {\n",
       "        vertical-align: middle;\n",
       "    }\n",
       "\n",
       "    .dataframe tbody tr th {\n",
       "        vertical-align: top;\n",
       "    }\n",
       "\n",
       "    .dataframe thead th {\n",
       "        text-align: right;\n",
       "    }\n",
       "</style>\n",
       "<table border=\"1\" class=\"dataframe\">\n",
       "  <thead>\n",
       "    <tr style=\"text-align: right;\">\n",
       "      <th></th>\n",
       "      <th>Question</th>\n",
       "      <th>Answer</th>\n",
       "      <th>Class</th>\n",
       "    </tr>\n",
       "  </thead>\n",
       "  <tbody>\n",
       "    <tr>\n",
       "      <th>count</th>\n",
       "      <td>1559</td>\n",
       "      <td>1559</td>\n",
       "      <td>1559</td>\n",
       "    </tr>\n",
       "    <tr>\n",
       "      <th>unique</th>\n",
       "      <td>1402</td>\n",
       "      <td>1506</td>\n",
       "      <td>13</td>\n",
       "    </tr>\n",
       "    <tr>\n",
       "      <th>top</th>\n",
       "      <td>What is the maximum value for which the Card c...</td>\n",
       "      <td>Just fax us a copy of the void transaction sli...</td>\n",
       "      <td>insurance</td>\n",
       "    </tr>\n",
       "    <tr>\n",
       "      <th>freq</th>\n",
       "      <td>8</td>\n",
       "      <td>6</td>\n",
       "      <td>431</td>\n",
       "    </tr>\n",
       "  </tbody>\n",
       "</table>\n",
       "</div>"
      ],
      "text/plain": [
       "                                                 Question  \\\n",
       "count                                                1559   \n",
       "unique                                               1402   \n",
       "top     What is the maximum value for which the Card c...   \n",
       "freq                                                    8   \n",
       "\n",
       "                                                   Answer      Class  \n",
       "count                                                1559       1559  \n",
       "unique                                               1506         13  \n",
       "top     Just fax us a copy of the void transaction sli...  insurance  \n",
       "freq                                                    6        431  "
      ]
     },
     "execution_count": 23,
     "metadata": {},
     "output_type": "execute_result"
    }
   ],
   "source": [
    "data1.describe()"
   ]
  },
  {
   "cell_type": "code",
   "execution_count": 24,
   "id": "385b315f",
   "metadata": {},
   "outputs": [
    {
     "data": {
      "text/html": [
       "<div>\n",
       "<style scoped>\n",
       "    .dataframe tbody tr th:only-of-type {\n",
       "        vertical-align: middle;\n",
       "    }\n",
       "\n",
       "    .dataframe tbody tr th {\n",
       "        vertical-align: top;\n",
       "    }\n",
       "\n",
       "    .dataframe thead th {\n",
       "        text-align: right;\n",
       "    }\n",
       "</style>\n",
       "<table border=\"1\" class=\"dataframe\">\n",
       "  <thead>\n",
       "    <tr style=\"text-align: right;\">\n",
       "      <th></th>\n",
       "      <th>Question</th>\n",
       "      <th>Answer</th>\n",
       "      <th>Class</th>\n",
       "    </tr>\n",
       "  </thead>\n",
       "  <tbody>\n",
       "    <tr>\n",
       "      <th>0</th>\n",
       "      <td>What is the ATS?</td>\n",
       "      <td>The ATS is an Application Tracking System, hos...</td>\n",
       "      <td>Application Tracking System (ATS)</td>\n",
       "    </tr>\n",
       "    <tr>\n",
       "      <th>1</th>\n",
       "      <td>What is an application?</td>\n",
       "      <td>An application can be any application, address...</td>\n",
       "      <td>Application Tracking System (ATS)</td>\n",
       "    </tr>\n",
       "  </tbody>\n",
       "</table>\n",
       "</div>"
      ],
      "text/plain": [
       "                  Question                                             Answer  \\\n",
       "0         What is the ATS?  The ATS is an Application Tracking System, hos...   \n",
       "1  What is an application?  An application can be any application, address...   \n",
       "\n",
       "                               Class  \n",
       "0  Application Tracking System (ATS)  \n",
       "1  Application Tracking System (ATS)  "
      ]
     },
     "execution_count": 24,
     "metadata": {},
     "output_type": "execute_result"
    }
   ],
   "source": [
    "df3=data1.select_dtypes(include='object').copy()\n",
    "df3.head(2)"
   ]
  },
  {
   "cell_type": "code",
   "execution_count": 25,
   "id": "0618f329",
   "metadata": {},
   "outputs": [
    {
     "data": {
      "text/plain": [
       "array(['What is the ATS?', 'What is an application?',\n",
       "       'How can the ATS be accessed?', ...,\n",
       "       'how much is interest for Fixed Deposit', 'Fixed Deposit', 'FD'],\n",
       "      dtype=object)"
      ]
     },
     "execution_count": 25,
     "metadata": {},
     "output_type": "execute_result"
    }
   ],
   "source": [
    "df3['Question'].unique()"
   ]
  },
  {
   "cell_type": "code",
   "execution_count": null,
   "id": "53297104",
   "metadata": {},
   "outputs": [
    {
     "data": {
      "text/plain": [
       "<AxesSubplot:xlabel='Question', ylabel='count'>"
      ]
     },
     "execution_count": 26,
     "metadata": {},
     "output_type": "execute_result"
    }
   ],
   "source": [
    "sns.countplot(data=df3,x='Question')"
   ]
  },
  {
   "cell_type": "code",
   "execution_count": null,
   "id": "64d9853b",
   "metadata": {},
   "outputs": [],
   "source": [
    "plt.figure(figsize=(10,5))\n",
    "m=sns.countplot(data=df3,x='Class')\n",
    "m.set_xticklabels(m.get_xticklabels(),rotation =90,horizontalalignment='right',fontweight='light');\n"
   ]
  },
  {
   "cell_type": "code",
   "execution_count": null,
   "id": "3f368f74",
   "metadata": {},
   "outputs": [],
   "source": [
    "\n",
    "df3['Class'].value_counts().plot(kind='bar')"
   ]
  },
  {
   "cell_type": "code",
   "execution_count": null,
   "id": "c94b3513",
   "metadata": {},
   "outputs": [],
   "source": [
    "explode_your=[0,0,0,0,0,0,0.2,1.2,1.3,1.5,1.6,1.7,1.9]\n",
    "plt.figure(figsize=(8,10))\n",
    "df3['Class'].value_counts().plot(kind='pie',autopct=\"%0.1f%%\",explode=explode_your)\n",
    "\n",
    "plt.legend(loc='lower left',bbox_to_anchor=(1,1))#radius=1,labeldistance=1,autopct='%1.2f%\n",
    "plt.show()\n",
    "#bbox_to_anchor=(4,1)"
   ]
  },
  {
   "cell_type": "code",
   "execution_count": null,
   "id": "1d79b85f",
   "metadata": {},
   "outputs": [],
   "source": [
    "plt.figure(figsize=(8,10))\n",
    "df3['Question'].value_counts().plot(kind='bar')"
   ]
  },
  {
   "cell_type": "code",
   "execution_count": null,
   "id": "2178fba1",
   "metadata": {},
   "outputs": [],
   "source": [
    "#sns.stripplot(x='Question',y='Class',data=data1,jitter=1,dodge=True,alpha=0.25,)\n"
   ]
  },
  {
   "cell_type": "code",
   "execution_count": null,
   "id": "8c9414b3",
   "metadata": {},
   "outputs": [],
   "source": [
    "df3['Class'].value_counts().plot(kind='box')"
   ]
  },
  {
   "cell_type": "code",
   "execution_count": null,
   "id": "588c0e7f",
   "metadata": {},
   "outputs": [],
   "source": [
    "df3['Class'].value_counts().plot(kind=\"hist\")"
   ]
  },
  {
   "cell_type": "code",
   "execution_count": null,
   "id": "a94d84d9",
   "metadata": {},
   "outputs": [],
   "source": [
    "import matplotlib.pyplot as plt \n",
    "from statsmodels.graphics.mosaicplot import mosaic\n",
    "plt.rcParams[\"figure.figsize\"]=[18,1.5]\n",
    "plt.rcParams[\"figure.autolayout\"]=False\n",
    "mosaic(df3,['Class'])\n",
    "plt.show()\n"
   ]
  },
  {
   "cell_type": "code",
   "execution_count": null,
   "id": "5ba073b5",
   "metadata": {},
   "outputs": [],
   "source": [
    "data1['Question']=data1['Question'].str.lower()\n",
    "data1"
   ]
  },
  {
   "cell_type": "code",
   "execution_count": null,
   "id": "e9e61cd6",
   "metadata": {},
   "outputs": [],
   "source": [
    "import nltk \n",
    "\n",
    "from nltk.tokenize import  word_tokenize,word_tokenize"
   ]
  },
  {
   "cell_type": "code",
   "execution_count": null,
   "id": "f7755126",
   "metadata": {},
   "outputs": [],
   "source": [
    "data1['Question']=data1['Question'].apply(lambda x:nltk.word_tokenize(x))\n",
    "data1"
   ]
  },
  {
   "cell_type": "code",
   "execution_count": null,
   "id": "1c2fc130",
   "metadata": {},
   "outputs": [],
   "source": [
    "#anal preproce\n",
    "import string\n",
    "string.punctuation\n",
    "#defining the function to remove punctuation\n",
    "def remove_punctuation(text):\n",
    "    punctuationfree=\" \". join([i for i in text if i not in string.punctuation])\n",
    "    return punctuationfree\n",
    "#storing the puntuation free text\n",
    "data1['Question']= data1['Question'].apply(lambda x:remove_punctuation(x))\n",
    "data1.head()"
   ]
  },
  {
   "cell_type": "code",
   "execution_count": null,
   "id": "ede0baee",
   "metadata": {},
   "outputs": [],
   "source": [
    "import string\n",
    "import re\n",
    "import nltk\n",
    "nltk.download('stopwords')\n",
    "nltk.download('punkt')\n",
    "from nltk.corpus import stopwords\n"
   ]
  },
  {
   "cell_type": "code",
   "execution_count": null,
   "id": "081a99af",
   "metadata": {},
   "outputs": [],
   "source": [
    "import nltk\n",
    "nltk.download('stopwords')\n",
    "from nltk.corpus import stopwords\n",
    "\n",
    "stop_words = stopwords.words('english')\n",
    "data1['Question'] = data1['Question'].apply(lambda x: ' '.join([word for word in x.split() if word not in (stop_words)]))\n",
    "data1.tail()"
   ]
  },
  {
   "cell_type": "code",
   "execution_count": null,
   "id": "d553cbdc",
   "metadata": {},
   "outputs": [],
   "source": [
    "from nltk.stem.porter import PorterStemmer \n",
    "ps=PorterStemmer()\n",
    "def stem_words(text):\n",
    "    return\" \". join([ps.stem(word) for word in text.split()])"
   ]
  },
  {
   "cell_type": "code",
   "execution_count": null,
   "id": "1aa23e0f",
   "metadata": {},
   "outputs": [],
   "source": [
    "data1['Question']=data1['Question'].apply(lambda x:stem_words(x))\n",
    "data1"
   ]
  },
  {
   "cell_type": "code",
   "execution_count": null,
   "id": "c39d1f02",
   "metadata": {},
   "outputs": [],
   "source": [
    "from nltk.stem import WordNetLemmatizer\n",
    "\n",
    "# Create a WordNetLemmatizer object\n",
    "wnl = WordNetLemmatizer()\n",
    "\n",
    "# Define a function to lemmatize text\n",
    "def lemmatized_text(text):\n",
    "    tokens = nltk.word_tokenize(text)\n",
    "    lemmatized_tokens = [wnl.lemmatize(token) for token in tokens]\n",
    "    lemmatized_text = ' '.join(lemmatized_tokens)\n",
    "    return lemmatized_text"
   ]
  },
  {
   "cell_type": "code",
   "execution_count": null,
   "id": "baea709f",
   "metadata": {},
   "outputs": [],
   "source": [
    "data1['Question']=data1['Question'].apply(lambda x: lemmatized_text(x))\n",
    "data1.head()"
   ]
  },
  {
   "cell_type": "code",
   "execution_count": null,
   "id": "2991fd78",
   "metadata": {},
   "outputs": [],
   "source": [
    "from sklearn import preprocessing \n"
   ]
  },
  {
   "cell_type": "code",
   "execution_count": null,
   "id": "9ed1b150",
   "metadata": {},
   "outputs": [],
   "source": [
    "le=preprocessing.LabelEncoder()\n",
    "data1['Class']=le.fit_transform(data1['Class'])\n",
    "data1['Class'].unique()"
   ]
  },
  {
   "cell_type": "code",
   "execution_count": null,
   "id": "b5293751",
   "metadata": {},
   "outputs": [],
   "source": [
    "from sklearn.feature_extraction.text import TfidfVectorizer "
   ]
  },
  {
   "cell_type": "code",
   "execution_count": null,
   "id": "843e03ab",
   "metadata": {},
   "outputs": [],
   "source": [
    "X_feature=data1['Question']\n",
    "y=data1['Class']"
   ]
  },
  {
   "cell_type": "code",
   "execution_count": null,
   "id": "c9146bfd",
   "metadata": {},
   "outputs": [],
   "source": [
    "y"
   ]
  },
  {
   "cell_type": "code",
   "execution_count": null,
   "id": "ac19e1ce",
   "metadata": {},
   "outputs": [],
   "source": [
    "X_feature"
   ]
  },
  {
   "cell_type": "code",
   "execution_count": null,
   "id": "e2613831",
   "metadata": {},
   "outputs": [],
   "source": [
    "tfidf_vec=TfidfVectorizer(use_idf=True)\n",
    "X=tfidf_vec.fit_transform(X_feature)\n"
   ]
  },
  {
   "cell_type": "code",
   "execution_count": null,
   "id": "570dabab",
   "metadata": {},
   "outputs": [],
   "source": [
    "X"
   ]
  },
  {
   "cell_type": "code",
   "execution_count": null,
   "id": "b5707342",
   "metadata": {},
   "outputs": [],
   "source": [
    "X.todense()"
   ]
  },
  {
   "cell_type": "code",
   "execution_count": null,
   "id": "ef9dcd34",
   "metadata": {},
   "outputs": [],
   "source": [
    "df_vec=pd.DataFrame(X.todense(),columns=tfidf_vec.get_feature_names())\n",
    "df_vec"
   ]
  },
  {
   "cell_type": "code",
   "execution_count": null,
   "id": "a5b06a98",
   "metadata": {},
   "outputs": [],
   "source": [
    "from sklearn.model_selection import train_test_split\n",
    "#SPLITTING THE TRAINING DATASET INTO TRAIN AND TEST\n",
    "X_train, X_test, y_train, y_test = train_test_split(X,y,test_size=0.2,random_state = 100)"
   ]
  },
  {
   "cell_type": "code",
   "execution_count": null,
   "id": "cd21d783",
   "metadata": {},
   "outputs": [],
   "source": [
    "X_train.shape\n"
   ]
  },
  {
   "cell_type": "code",
   "execution_count": null,
   "id": "3870b926",
   "metadata": {},
   "outputs": [],
   "source": [
    "y_train.shape"
   ]
  },
  {
   "cell_type": "code",
   "execution_count": null,
   "id": "3aa09c5e",
   "metadata": {},
   "outputs": [],
   "source": [
    "from sklearn.linear_model import LogisticRegression \n",
    "from sklearn.naive_bayes import MultinomialNB"
   ]
  },
  {
   "cell_type": "code",
   "execution_count": null,
   "id": "aa7ae6b1",
   "metadata": {},
   "outputs": [],
   "source": [
    "lr_model=LogisticRegression(solver='saga')\n",
    "lr_model.fit(X_train,y_train)"
   ]
  },
  {
   "cell_type": "code",
   "execution_count": null,
   "id": "3f91d533",
   "metadata": {},
   "outputs": [],
   "source": [
    "lr_model.score(X_test,y_test)"
   ]
  },
  {
   "cell_type": "code",
   "execution_count": null,
   "id": "7b754302",
   "metadata": {},
   "outputs": [],
   "source": [
    "from sklearn.metrics import classification_report,confusion_matrix\n",
    "\n",
    "#from sklearn.metrics ConfusionMatrixDisplay\n",
    "#ConfusionMatrixDisplay(lr_model,X_test,y_test)"
   ]
  },
  {
   "cell_type": "code",
   "execution_count": null,
   "id": "be4f5a83",
   "metadata": {},
   "outputs": [],
   "source": [
    "y_pred=lr_model.predict(X_test)"
   ]
  },
  {
   "cell_type": "code",
   "execution_count": null,
   "id": "7e7dcfa2",
   "metadata": {},
   "outputs": [],
   "source": [
    "confusion_matrix(y_pred,y_test)"
   ]
  },
  {
   "cell_type": "code",
   "execution_count": null,
   "id": "9dcc9a0c",
   "metadata": {},
   "outputs": [],
   "source": [
    "print(classification_report(y_pred,y_test))"
   ]
  },
  {
   "cell_type": "code",
   "execution_count": null,
   "id": "a96b9905",
   "metadata": {},
   "outputs": [],
   "source": [
    "#from sklearn.metrics import classification_report, f1_score, accuracy_score, confusion_matrix\n",
    "#from sklearn.metrics import roc_curve, auc, roc_auc_score\n",
    "#from sklearn.naive_bayes import MultinomialNB\n",
    "#lr_tfidf=MultinomialNB()\n",
    "#lr_tfidf.fit(X_train, y_train)  "
   ]
  },
  {
   "cell_type": "code",
   "execution_count": null,
   "id": "584e1435",
   "metadata": {},
   "outputs": [],
   "source": [
    "#y_predict = lr_tfidf.predict(X_test)\n",
    "#y_prob = lr_tfidf.predict_proba(X_test)[:,1]\n",
    "#print(classification_report(y_test,y_predict))\n",
    "#print('Confusion Matrix:',confusion_matrix(y_test, y_predict))"
   ]
  },
  {
   "cell_type": "code",
   "execution_count": null,
   "id": "fc620d06",
   "metadata": {},
   "outputs": [],
   "source": [
    "#from sklearn import svm\n",
    "#classifier=svm.SVC(kernel='linear',gamma='auto',C=2)\n",
    "#classifier.fit(X_train,y_train)\n",
    "#y_predict=classifier.predict(X_test)"
   ]
  },
  {
   "cell_type": "code",
   "execution_count": null,
   "id": "af110861",
   "metadata": {},
   "outputs": [],
   "source": [
    "from sklearn.metrics import classification_report\n",
    "print(classification_report(y_test,y_predict))"
   ]
  },
  {
   "cell_type": "code",
   "execution_count": null,
   "id": "fa3c808f",
   "metadata": {},
   "outputs": [],
   "source": []
  },
  {
   "cell_type": "code",
   "execution_count": null,
   "id": "8f9dd9c9",
   "metadata": {},
   "outputs": [],
   "source": []
  },
  {
   "cell_type": "code",
   "execution_count": null,
   "id": "7bd80d21",
   "metadata": {},
   "outputs": [],
   "source": []
  },
  {
   "cell_type": "code",
   "execution_count": null,
   "id": "c1cd0eca",
   "metadata": {},
   "outputs": [],
   "source": []
  }
 ],
 "metadata": {
  "kernelspec": {
   "display_name": "Python 3 (ipykernel)",
   "language": "python",
   "name": "python3"
  },
  "language_info": {
   "codemirror_mode": {
    "name": "ipython",
    "version": 3
   },
   "file_extension": ".py",
   "mimetype": "text/x-python",
   "name": "python",
   "nbconvert_exporter": "python",
   "pygments_lexer": "ipython3",
   "version": "3.9.13"
  }
 },
 "nbformat": 4,
 "nbformat_minor": 5
}
